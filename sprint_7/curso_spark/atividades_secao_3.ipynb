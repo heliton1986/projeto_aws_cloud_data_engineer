{
 "cells": [
  {
   "cell_type": "code",
   "execution_count": 1,
   "metadata": {},
   "outputs": [
    {
     "name": "stdout",
     "output_type": "stream",
     "text": [
      "23/06/14 17:42:10 WARN Utils: Your hostname, big-linux resolves to a loopback address: 127.0.1.1; using 192.168.100.158 instead (on interface wlp2s0)\n",
      "23/06/14 17:42:10 WARN Utils: Set SPARK_LOCAL_IP if you need to bind to another address\n"
     ]
    },
    {
     "name": "stderr",
     "output_type": "stream",
     "text": [
      "Setting default log level to \"WARN\".\n",
      "To adjust logging level use sc.setLogLevel(newLevel). For SparkR, use setLogLevel(newLevel).\n"
     ]
    },
    {
     "name": "stdout",
     "output_type": "stream",
     "text": [
      "23/06/14 17:42:13 WARN NativeCodeLoader: Unable to load native-hadoop library for your platform... using builtin-java classes where applicable\n"
     ]
    }
   ],
   "source": [
    "from pyspark.sql import SparkSession\n",
    "spark = SparkSession.builder \\\n",
    "    .master(\"local\") \\\n",
    "    .appName(\"Nome do Aplicativo\") \\\n",
    "    .config(\"spark.some.config.option\", \"some-value\") \\\n",
    "    .getOrCreate()"
   ]
  },
  {
   "cell_type": "code",
   "execution_count": 2,
   "metadata": {},
   "outputs": [
    {
     "name": "stderr",
     "output_type": "stream",
     "text": [
      "                                                                                \r"
     ]
    }
   ],
   "source": [
    "clientes = spark.read.parquet('/home/heliton/Documentos/repos/novo_aws_cloud_data_engineer_compass_uol/sprint_7/curso_spark/download/Atividades/Clientes.parquet')"
   ]
  },
  {
   "cell_type": "code",
   "execution_count": 3,
   "metadata": {},
   "outputs": [
    {
     "name": "stderr",
     "output_type": "stream",
     "text": [
      "[Stage 1:>                                                          (0 + 1) / 1]\r"
     ]
    },
    {
     "name": "stdout",
     "output_type": "stream",
     "text": [
      "+---------+--------------------+------+------+--------+\n",
      "|ClienteID|             Cliente|Estado|Genero|  Status|\n",
      "+---------+--------------------+------+------+--------+\n",
      "|        1|Adelina Buenaventura|    RJ|     M|  Silver|\n",
      "|        2|        Adelino Gago|    RJ|     M|  Silver|\n",
      "|        3|     Adolfo Patrício|    PE|     M|  Silver|\n",
      "|        4|    Adriana Guedelha|    RO|     F|Platinum|\n",
      "|        5|       Adélio Lisboa|    SE|     M|  Silver|\n",
      "|        6|       Adérito Bahía|    MA|     M|  Silver|\n",
      "|        7|       Aida Dorneles|    RN|     F|  Silver|\n",
      "|        8|   Alarico Quinterno|    AC|     M|  Silver|\n",
      "|        9|    Alberto Cezimbra|    AM|     M|  Silver|\n",
      "|       10|    Alberto Monsanto|    RN|     M|    Gold|\n",
      "|       11|       Albino Canela|    AC|     M|  Silver|\n",
      "|       12|     Alceste Varanda|    RR|     F|  Silver|\n",
      "|       13|  Alcides Carvalhais|    RO|     M|  Silver|\n",
      "|       14|        Aldo Martins|    GO|     M|  Silver|\n",
      "|       15|   Alexandra Tabares|    MG|     F|  Silver|\n",
      "|       16|      Alfredo Cotrim|    SC|     M|  Silver|\n",
      "|       17|     Almeno Figueira|    SC|     M|  Silver|\n",
      "|       18|      Alvito Peralta|    AM|     M|  Silver|\n",
      "|       19|     Amadeu Martinho|    RN|     M|  Silver|\n",
      "|       20|      Amélia Estévez|    PE|     F|  Silver|\n",
      "+---------+--------------------+------+------+--------+\n",
      "only showing top 20 rows\n",
      "\n"
     ]
    },
    {
     "name": "stderr",
     "output_type": "stream",
     "text": [
      "                                                                                \r"
     ]
    }
   ],
   "source": [
    "clientes.show()"
   ]
  },
  {
   "cell_type": "code",
   "execution_count": 33,
   "metadata": {},
   "outputs": [
    {
     "name": "stdout",
     "output_type": "stream",
     "text": [
      "+---------+--------------------+------+------+--------+--------------------+\n",
      "|ClienteID|             Cliente|Estado|Genero|  Status|   Cliente maiuscula|\n",
      "+---------+--------------------+------+------+--------+--------------------+\n",
      "|        1|Adelina Buenaventura|    RJ|     M|  Silver|ADELINA BUENAVENTURA|\n",
      "|        2|        Adelino Gago|    RJ|     M|  Silver|        ADELINO GAGO|\n",
      "|        3|     Adolfo Patrício|    PE|     M|  Silver|     ADOLFO PATRÍCIO|\n",
      "|        4|    Adriana Guedelha|    RO|     F|Platinum|    ADRIANA GUEDELHA|\n",
      "|        5|       Adélio Lisboa|    SE|     M|  Silver|       ADÉLIO LISBOA|\n",
      "|        6|       Adérito Bahía|    MA|     M|  Silver|       ADÉRITO BAHÍA|\n",
      "|        7|       Aida Dorneles|    RN|     F|  Silver|       AIDA DORNELES|\n",
      "|        8|   Alarico Quinterno|    AC|     M|  Silver|   ALARICO QUINTERNO|\n",
      "|        9|    Alberto Cezimbra|    AM|     M|  Silver|    ALBERTO CEZIMBRA|\n",
      "|       10|    Alberto Monsanto|    RN|     M|    Gold|    ALBERTO MONSANTO|\n",
      "|       11|       Albino Canela|    AC|     M|  Silver|       ALBINO CANELA|\n",
      "|       12|     Alceste Varanda|    RR|     F|  Silver|     ALCESTE VARANDA|\n",
      "|       13|  Alcides Carvalhais|    RO|     M|  Silver|  ALCIDES CARVALHAIS|\n",
      "|       14|        Aldo Martins|    GO|     M|  Silver|        ALDO MARTINS|\n",
      "|       15|   Alexandra Tabares|    MG|     F|  Silver|   ALEXANDRA TABARES|\n",
      "|       16|      Alfredo Cotrim|    SC|     M|  Silver|      ALFREDO COTRIM|\n",
      "|       17|     Almeno Figueira|    SC|     M|  Silver|     ALMENO FIGUEIRA|\n",
      "|       18|      Alvito Peralta|    AM|     M|  Silver|      ALVITO PERALTA|\n",
      "|       19|     Amadeu Martinho|    RN|     M|  Silver|     AMADEU MARTINHO|\n",
      "|       20|      Amélia Estévez|    PE|     F|  Silver|      AMÉLIA ESTÉVEZ|\n",
      "+---------+--------------------+------+------+--------+--------------------+\n",
      "only showing top 20 rows\n",
      "\n"
     ]
    }
   ],
   "source": [
    "from pyspark.sql.functions import upper, col\n",
    "from pyspark.sql import functions\n",
    "\n",
    "clientes.select('*', upper('Cliente').alias('Cliente maiuscula')).show()"
   ]
  },
  {
   "cell_type": "code",
   "execution_count": 35,
   "metadata": {},
   "outputs": [
    {
     "name": "stdout",
     "output_type": "stream",
     "text": [
      "+---------+--------------------+------+------+--------+\n",
      "|ClienteID|             Cliente|Estado|Genero|  Status|\n",
      "+---------+--------------------+------+------+--------+\n",
      "|        1|Adelina Buenaventura|    RJ|     M|  Silver|\n",
      "|        2|        Adelino Gago|    RJ|     M|  Silver|\n",
      "|        3|     Adolfo Patrício|    PE|     M|  Silver|\n",
      "|        4|    Adriana Guedelha|    RO|     F|Platinum|\n",
      "|        5|       Adélio Lisboa|    SE|     M|  Silver|\n",
      "|        6|       Adérito Bahía|    MA|     M|  Silver|\n",
      "|        7|       Aida Dorneles|    RN|     F|  Silver|\n",
      "|        8|   Alarico Quinterno|    AC|     M|  Silver|\n",
      "|        9|    Alberto Cezimbra|    AM|     M|  Silver|\n",
      "|       10|    Alberto Monsanto|    RN|     M|    Gold|\n",
      "|       11|       Albino Canela|    AC|     M|  Silver|\n",
      "|       12|     Alceste Varanda|    RR|     F|  Silver|\n",
      "|       13|  Alcides Carvalhais|    RO|     M|  Silver|\n",
      "|       14|        Aldo Martins|    GO|     M|  Silver|\n",
      "|       15|   Alexandra Tabares|    MG|     F|  Silver|\n",
      "|       16|      Alfredo Cotrim|    SC|     M|  Silver|\n",
      "|       17|     Almeno Figueira|    SC|     M|  Silver|\n",
      "|       18|      Alvito Peralta|    AM|     M|  Silver|\n",
      "|       19|     Amadeu Martinho|    RN|     M|  Silver|\n",
      "|       20|      Amélia Estévez|    PE|     F|  Silver|\n",
      "+---------+--------------------+------+------+--------+\n",
      "only showing top 20 rows\n",
      "\n"
     ]
    },
    {
     "name": "stderr",
     "output_type": "stream",
     "text": [
      "                                                                                \r"
     ]
    }
   ],
   "source": [
    "clientes.show()"
   ]
  },
  {
   "cell_type": "code",
   "execution_count": 34,
   "metadata": {},
   "outputs": [
    {
     "name": "stdout",
     "output_type": "stream",
     "text": [
      "+---------+--------------------+------+------+--------+\n",
      "|ClienteID|             Cliente|Estado|Genero|  Status|\n",
      "+---------+--------------------+------+------+--------+\n",
      "|        1|ADELINA BUENAVENTURA|    RJ|     M|  Silver|\n",
      "|        2|        ADELINO GAGO|    RJ|     M|  Silver|\n",
      "|        3|     ADOLFO PATRÍCIO|    PE|     M|  Silver|\n",
      "|        4|    ADRIANA GUEDELHA|    RO|     F|Platinum|\n",
      "|        5|       ADÉLIO LISBOA|    SE|     M|  Silver|\n",
      "|        6|       ADÉRITO BAHÍA|    MA|     M|  Silver|\n",
      "|        7|       AIDA DORNELES|    RN|     F|  Silver|\n",
      "|        8|   ALARICO QUINTERNO|    AC|     M|  Silver|\n",
      "|        9|    ALBERTO CEZIMBRA|    AM|     M|  Silver|\n",
      "|       10|    ALBERTO MONSANTO|    RN|     M|    Gold|\n",
      "|       11|       ALBINO CANELA|    AC|     M|  Silver|\n",
      "|       12|     ALCESTE VARANDA|    RR|     F|  Silver|\n",
      "|       13|  ALCIDES CARVALHAIS|    RO|     M|  Silver|\n",
      "|       14|        ALDO MARTINS|    GO|     M|  Silver|\n",
      "|       15|   ALEXANDRA TABARES|    MG|     F|  Silver|\n",
      "|       16|      ALFREDO COTRIM|    SC|     M|  Silver|\n",
      "|       17|     ALMENO FIGUEIRA|    SC|     M|  Silver|\n",
      "|       18|      ALVITO PERALTA|    AM|     M|  Silver|\n",
      "|       19|     AMADEU MARTINHO|    RN|     M|  Silver|\n",
      "|       20|      AMÉLIA ESTÉVEZ|    PE|     F|  Silver|\n",
      "+---------+--------------------+------+------+--------+\n",
      "only showing top 20 rows\n",
      "\n"
     ]
    }
   ],
   "source": [
    "from pyspark.sql.functions import upper, col\n",
    "from pyspark.sql import functions\n",
    "\n",
    "clientes.withColumn('Cliente', upper('Cliente').alias('Cliente maiuscula')).show()"
   ]
  },
  {
   "cell_type": "code",
   "execution_count": 25,
   "metadata": {},
   "outputs": [
    {
     "name": "stdout",
     "output_type": "stream",
     "text": [
      "+--------------------+\n",
      "|      upper(Cliente)|\n",
      "+--------------------+\n",
      "|ADELINA BUENAVENTURA|\n",
      "|        ADELINO GAGO|\n",
      "|     ADOLFO PATRÍCIO|\n",
      "|    ADRIANA GUEDELHA|\n",
      "|       ADÉLIO LISBOA|\n",
      "|       ADÉRITO BAHÍA|\n",
      "|       AIDA DORNELES|\n",
      "|   ALARICO QUINTERNO|\n",
      "|    ALBERTO CEZIMBRA|\n",
      "|    ALBERTO MONSANTO|\n",
      "|       ALBINO CANELA|\n",
      "|     ALCESTE VARANDA|\n",
      "|  ALCIDES CARVALHAIS|\n",
      "|        ALDO MARTINS|\n",
      "|   ALEXANDRA TABARES|\n",
      "|      ALFREDO COTRIM|\n",
      "|     ALMENO FIGUEIRA|\n",
      "|      ALVITO PERALTA|\n",
      "|     AMADEU MARTINHO|\n",
      "|      AMÉLIA ESTÉVEZ|\n",
      "+--------------------+\n",
      "only showing top 20 rows\n",
      "\n"
     ]
    }
   ],
   "source": [
    "clientes.select(upper('Cliente')).show()\n"
   ]
  },
  {
   "cell_type": "code",
   "execution_count": null,
   "metadata": {},
   "outputs": [],
   "source": [
    "clientes.show()"
   ]
  },
  {
   "cell_type": "code",
   "execution_count": null,
   "metadata": {},
   "outputs": [],
   "source": [
    "vendedores = spark.read.parquet('/home/heliton/Documentos/repos/novo_aws_cloud_data_engineer_compass_uol/sprint_7/curso_spark/download/Atividades/Vendedores.parquet')"
   ]
  },
  {
   "cell_type": "code",
   "execution_count": null,
   "metadata": {},
   "outputs": [],
   "source": [
    "vendedores.show()"
   ]
  },
  {
   "cell_type": "code",
   "execution_count": null,
   "metadata": {},
   "outputs": [],
   "source": [
    "produtos = spark.read.parquet('/home/heliton/Documentos/repos/novo_aws_cloud_data_engineer_compass_uol/sprint_7/curso_spark/download/Atividades/Produtos.parquet')"
   ]
  },
  {
   "cell_type": "code",
   "execution_count": null,
   "metadata": {},
   "outputs": [],
   "source": [
    "produtos.show()"
   ]
  },
  {
   "cell_type": "code",
   "execution_count": null,
   "metadata": {},
   "outputs": [],
   "source": [
    "vendas = spark.read.parquet('/home/heliton/Documentos/repos/novo_aws_cloud_data_engineer_compass_uol/sprint_7/curso_spark/download/Atividades/Vendas.parquet')"
   ]
  },
  {
   "cell_type": "code",
   "execution_count": null,
   "metadata": {},
   "outputs": [],
   "source": [
    "vendas.show()"
   ]
  },
  {
   "cell_type": "code",
   "execution_count": null,
   "metadata": {},
   "outputs": [],
   "source": [
    "itens_venda = spark.read.parquet('/home/heliton/Documentos/repos/novo_aws_cloud_data_engineer_compass_uol/sprint_7/curso_spark/download/Atividades/ItensVendas.parquet')"
   ]
  },
  {
   "cell_type": "code",
   "execution_count": null,
   "metadata": {},
   "outputs": [],
   "source": [
    "itens_venda.show()"
   ]
  },
  {
   "attachments": {},
   "cell_type": "markdown",
   "metadata": {},
   "source": [
    "## 1.Crie uma consulta que mostre nome, estado e status"
   ]
  },
  {
   "cell_type": "code",
   "execution_count": null,
   "metadata": {},
   "outputs": [],
   "source": [
    "clientes.show()"
   ]
  },
  {
   "cell_type": "code",
   "execution_count": null,
   "metadata": {},
   "outputs": [],
   "source": [
    "clientes.select('Cliente', 'Estado', 'Status').show()"
   ]
  },
  {
   "attachments": {},
   "cell_type": "markdown",
   "metadata": {},
   "source": [
    "## 2. Crie uma consulta que mostre apenas os clientes do Status \"platinum\" e \"gold\""
   ]
  },
  {
   "cell_type": "code",
   "execution_count": null,
   "metadata": {},
   "outputs": [],
   "source": [
    "clientes.show()"
   ]
  },
  {
   "cell_type": "code",
   "execution_count": null,
   "metadata": {},
   "outputs": [],
   "source": [
    "from pyspark.sql.functions import *"
   ]
  },
  {
   "cell_type": "code",
   "execution_count": null,
   "metadata": {},
   "outputs": [],
   "source": [
    "clientes.select('Cliente', 'Status').filter((col('Status') == 'Platinum') | (col('Status') == 'Gold')).show()"
   ]
  },
  {
   "attachments": {},
   "cell_type": "markdown",
   "metadata": {},
   "source": [
    "## 3. Demonstre quanto cada Status de Clientes representa em vendas"
   ]
  },
  {
   "cell_type": "code",
   "execution_count": null,
   "metadata": {},
   "outputs": [],
   "source": [
    "clientes.show(5)"
   ]
  },
  {
   "cell_type": "code",
   "execution_count": null,
   "metadata": {},
   "outputs": [],
   "source": [
    "vendas.show(5)"
   ]
  },
  {
   "cell_type": "code",
   "execution_count": null,
   "metadata": {},
   "outputs": [],
   "source": [
    "vendas.join(clientes, vendas.ClienteID == clientes.ClienteID).groupBy(clientes.Status).agg(sum(vendas.Total)).orderBy(sum(vendas.Total).desc()).show()"
   ]
  }
 ],
 "metadata": {
  "kernelspec": {
   "display_name": "compass",
   "language": "python",
   "name": "python3"
  },
  "language_info": {
   "codemirror_mode": {
    "name": "ipython",
    "version": 3
   },
   "file_extension": ".py",
   "mimetype": "text/x-python",
   "name": "python",
   "nbconvert_exporter": "python",
   "pygments_lexer": "ipython3",
   "version": "3.10.10"
  },
  "orig_nbformat": 4
 },
 "nbformat": 4,
 "nbformat_minor": 2
}
