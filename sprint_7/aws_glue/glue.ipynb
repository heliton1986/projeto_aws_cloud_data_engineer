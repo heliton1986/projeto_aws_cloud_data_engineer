{
 "cells": [
  {
   "cell_type": "code",
   "execution_count": 1,
   "metadata": {},
   "outputs": [
    {
     "ename": "ModuleNotFoundError",
     "evalue": "No module named 'pyspark'",
     "output_type": "error",
     "traceback": [
      "\u001b[0;31m---------------------------------------------------------------------------\u001b[0m",
      "\u001b[0;31mModuleNotFoundError\u001b[0m                       Traceback (most recent call last)",
      "Cell \u001b[0;32mIn[1], line 1\u001b[0m\n\u001b[0;32m----> 1\u001b[0m \u001b[39mfrom\u001b[39;00m \u001b[39mpyspark\u001b[39;00m\u001b[39m.\u001b[39;00m\u001b[39msql\u001b[39;00m \u001b[39mimport\u001b[39;00m SparkSession\n\u001b[1;32m      2\u001b[0m spark \u001b[39m=\u001b[39m SparkSession\u001b[39m.\u001b[39mbuilder \\\n\u001b[1;32m      3\u001b[0m     \u001b[39m.\u001b[39mmaster(\u001b[39m\"\u001b[39m\u001b[39mlocal\u001b[39m\u001b[39m\"\u001b[39m) \\\n\u001b[1;32m      4\u001b[0m     \u001b[39m.\u001b[39mappName(\u001b[39m\"\u001b[39m\u001b[39mNome do Aplicativo\u001b[39m\u001b[39m\"\u001b[39m) \\\n\u001b[1;32m      5\u001b[0m     \u001b[39m.\u001b[39mconfig(\u001b[39m\"\u001b[39m\u001b[39mspark.some.config.option\u001b[39m\u001b[39m\"\u001b[39m, \u001b[39m\"\u001b[39m\u001b[39msome-value\u001b[39m\u001b[39m\"\u001b[39m) \\\n\u001b[1;32m      6\u001b[0m     \u001b[39m.\u001b[39mgetOrCreate()\n",
      "\u001b[0;31mModuleNotFoundError\u001b[0m: No module named 'pyspark'"
     ]
    }
   ],
   "source": [
    "from pyspark.sql import SparkSession\n",
    "spark = SparkSession.builder \\\n",
    "    .master(\"local\") \\\n",
    "    .appName(\"Nome do Aplicativo\") \\\n",
    "    .config(\"spark.some.config.option\", \"some-value\") \\\n",
    "    .getOrCreate()"
   ]
  },
  {
   "cell_type": "code",
   "execution_count": null,
   "metadata": {},
   "outputs": [],
   "source": [
    "df_spark = spark.read.csv('/home/heliton/Documentos/repos/novo_aws_cloud_data_engineer_compass_uol/sprint_7/aws/nomes.csv', \\\n",
    "                    header=True, inferSchema=True)"
   ]
  },
  {
   "cell_type": "code",
   "execution_count": null,
   "metadata": {},
   "outputs": [],
   "source": [
    "df_spark.show()"
   ]
  },
  {
   "cell_type": "code",
   "execution_count": null,
   "metadata": {},
   "outputs": [],
   "source": [
    "# Schema\n",
    "df_spark.schema"
   ]
  },
  {
   "cell_type": "code",
   "execution_count": null,
   "metadata": {},
   "outputs": [],
   "source": [
    "# coluna nome maiúscula\n",
    "from pyspark.sql.functions import *\n",
    "from pyspark.sql import functions as F\n",
    "\n",
    "df_spark.withColumn('nome', upper('nome').alias('Nome Maiuscula')).show()"
   ]
  },
  {
   "cell_type": "code",
   "execution_count": null,
   "metadata": {},
   "outputs": [],
   "source": [
    "# Quantidade de registros\n",
    "df_spark.count()"
   ]
  },
  {
   "cell_type": "code",
   "execution_count": null,
   "metadata": {},
   "outputs": [],
   "source": [
    "# Imprimir a contagem de nomes, agrupando os dados do dataframe pelas colunas ano e sexo\n",
    "# Ordene os dados de modo que o ano mais recente apareça como primeiro registro do dataframe\n",
    "\n",
    "df_spark.groupBy('ano', 'sexo').agg(count('nome').alias('contagem')).orderBy(col('ano').desc()).show()\n"
   ]
  },
  {
   "cell_type": "code",
   "execution_count": null,
   "metadata": {},
   "outputs": [],
   "source": [
    "# Apresentar qual foi o nome feminino com mais registros e em que ano ocorreu\n",
    "from pyspark.sql.functions import *\n",
    "\n",
    "df_spark.filter(df_spark.sexo == 'F') \\\n",
    "  .groupBy('ano', 'nome') \\\n",
    "  .agg(sum('total').alias('quantidade')) \\\n",
    "  .orderBy(col('quantidade').desc()) \\\n",
    "  .limit(1) \\\n",
    "  .show()"
   ]
  },
  {
   "cell_type": "code",
   "execution_count": null,
   "metadata": {},
   "outputs": [],
   "source": [
    "# Apresentar qual foi o nome masculino com mais registros e em que ano ocorreu.\n",
    "from pyspark.sql.functions import *\n",
    "\n",
    "df_spark.filter(df_spark.sexo == 'M') \\\n",
    "  .groupBy('ano', 'nome') \\\n",
    "  .agg(sum('total').alias('quantidade')) \\\n",
    "  .orderBy(col('quantidade').desc()) \\\n",
    "  .limit(1) \\\n",
    "  .show()"
   ]
  },
  {
   "cell_type": "code",
   "execution_count": null,
   "metadata": {},
   "outputs": [],
   "source": [
    "# Apresentar o total de registros (masculinos e femininos) para cada ano presente no dataframe.\n",
    "# Considere apenas as primeiras 10 linhas, ordenadas pelo ano, de forma crescente.\n",
    "from pyspark.sql.functions import *\n",
    "\n",
    "df_spark.groupBy(\"ano\", \"sexo\") \\\n",
    "  .agg(sum(\"total\").alias(\"total\")) \\\n",
    "  .orderBy(\"ano\") \\\n",
    "  .limit(10) \\\n",
    "  .show()"
   ]
  },
  {
   "cell_type": "code",
   "execution_count": null,
   "metadata": {},
   "outputs": [],
   "source": [
    "dfUpper = df_spark.withColumn('nome', upper('nome').alias('Nome Maiuscula'))"
   ]
  },
  {
   "cell_type": "code",
   "execution_count": null,
   "metadata": {},
   "outputs": [],
   "source": [
    "dfUpper.show()"
   ]
  }
 ],
 "metadata": {
  "kernelspec": {
   "display_name": "compass",
   "language": "python",
   "name": "python3"
  },
  "language_info": {
   "codemirror_mode": {
    "name": "ipython",
    "version": 3
   },
   "file_extension": ".py",
   "mimetype": "text/x-python",
   "name": "python",
   "nbconvert_exporter": "python",
   "pygments_lexer": "ipython3",
   "version": "3.10.10"
  },
  "orig_nbformat": 4
 },
 "nbformat": 4,
 "nbformat_minor": 2
}
