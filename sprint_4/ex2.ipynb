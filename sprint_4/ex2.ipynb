{
 "cells": [
  {
   "cell_type": "code",
   "execution_count": 1,
   "metadata": {},
   "outputs": [
    {
     "data": {
      "text/plain": [
       "6"
      ]
     },
     "execution_count": 1,
     "metadata": {},
     "output_type": "execute_result"
    }
   ],
   "source": [
    "def conta_vogais(texto: str) -> int:\n",
    "    vogais = ['a', 'e', 'i', 'o', 'u']\n",
    "    texto_minusculo = texto.lower()\n",
    "    vogais_no_texto = filter(lambda letra: letra in vogais, texto_minusculo)\n",
    "    return len(list(vogais_no_texto))\n",
    "    \n",
    "conta_vogais('aaeeee')\n"
   ]
  },
  {
   "cell_type": "code",
   "execution_count": 2,
   "metadata": {},
   "outputs": [
    {
     "name": "stdout",
     "output_type": "stream",
     "text": [
      "2\n"
     ]
    }
   ],
   "source": [
    "def contar_vogais(texto: str) -> int:\n",
    "    vogais = ['a', 'e', 'i', 'o', 'u']\n",
    "    return len(list(filter(lambda letra: letra.lower() in vogais, texto)))\n",
    "\n",
    "print(contar_vogais('abce'))"
   ]
  },
  {
   "cell_type": "code",
   "execution_count": null,
   "metadata": {},
   "outputs": [],
   "source": []
  }
 ],
 "metadata": {
  "kernelspec": {
   "display_name": "Python 3",
   "language": "python",
   "name": "python3"
  },
  "language_info": {
   "codemirror_mode": {
    "name": "ipython",
    "version": 3
   },
   "file_extension": ".py",
   "mimetype": "text/x-python",
   "name": "python",
   "nbconvert_exporter": "python",
   "pygments_lexer": "ipython3",
   "version": "3.10.10"
  },
  "orig_nbformat": 4
 },
 "nbformat": 4,
 "nbformat_minor": 2
}
