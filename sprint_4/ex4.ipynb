{
 "cells": [
  {
   "cell_type": "code",
   "execution_count": 1,
   "metadata": {},
   "outputs": [
    {
     "name": "stdout",
     "output_type": "stream",
     "text": [
      "12.0\n"
     ]
    }
   ],
   "source": [
    "import operator\n",
    "\n",
    "simbolo = {\n",
    "    '+': operator.add,\n",
    "    '-': operator.sub,\n",
    "    '*': operator.mul,\n",
    "    '/': operator.truediv,\n",
    "    '%': operator.mod\n",
    "}\n",
    "\n",
    "operadores = ['+','-','*','/','+']\n",
    "operandos  = [(3,6), (-7,4.9), (8,-8), (10,2), (8,4)]\n",
    "\n",
    "def calcular_valor_maximo(operadores, operandos) -> float: \n",
    "\n",
    "    juncao = list(map(lambda x: (x[0][0],x[1], x[0][1]),(zip(operandos, operadores)))) # (3 ,'+', 6)\n",
    "    \n",
    "    # print(juncao)\n",
    "    calculando = list(map(lambda x: simbolo[x[1]] (x[0], x[2]), juncao)) # (3 + 6)\n",
    "\n",
    "    # print(calculando)\n",
    "    maximo = float(max(calculando))\n",
    "\n",
    "    return maximo\n",
    "\n",
    "print(calcular_valor_maximo(operadores, operandos))"
   ]
  },
  {
   "cell_type": "code",
   "execution_count": null,
   "metadata": {},
   "outputs": [],
   "source": []
  }
 ],
 "metadata": {
  "kernelspec": {
   "display_name": "compass_sprint4",
   "language": "python",
   "name": "python3"
  },
  "language_info": {
   "codemirror_mode": {
    "name": "ipython",
    "version": 3
   },
   "file_extension": ".py",
   "mimetype": "text/x-python",
   "name": "python",
   "nbconvert_exporter": "python",
   "pygments_lexer": "ipython3",
   "version": "3.10.10"
  },
  "orig_nbformat": 4
 },
 "nbformat": 4,
 "nbformat_minor": 2
}
