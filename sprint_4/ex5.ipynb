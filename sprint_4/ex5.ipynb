{
 "cells": [
  {
   "cell_type": "code",
   "execution_count": 58,
   "metadata": {},
   "outputs": [
    {
     "name": "stdout",
     "output_type": "stream",
     "text": [
      "Nome: Alexandre da Rosa Notas: [10, 10, 8] Média: 9.33\n",
      "Nome: Ana Clara das Neves Notas: [7, 6, 6] Média: 6.33\n",
      "Nome: Ana Gonçalves Notas: [8, 3, 3] Média: 4.67\n",
      "Nome: Ana Julia Cavalcanti Notas: [10, 10, 9] Média: 9.67\n",
      "Nome: Ana Vitória Moraes Notas: [10, 6, 5] Média: 7.0\n",
      "Nome: André Mendes Notas: [6, 4, 4] Média: 4.67\n",
      "Nome: Beatriz Moreira Notas: [6, 4, 3] Média: 4.33\n",
      "Nome: Carolina da Mata Notas: [5, 5, 3] Média: 4.33\n",
      "Nome: Catarina Barros Notas: [10, 4, 3] Média: 5.67\n",
      "Nome: Cauê Fogaça Notas: [10, 5, 5] Média: 6.67\n",
      "Nome: Cecília Costa Notas: [9, 4, 4] Média: 5.67\n",
      "Nome: Clara da Rocha Notas: [9, 9, 7] Média: 8.33\n",
      "Nome: Davi Lucas Gomes Notas: [9, 8, 8] Média: 8.33\n",
      "Nome: Diogo Aragão Notas: [7, 5, 5] Média: 5.67\n",
      "Nome: Dr. Pedro Henrique Rezende Notas: [10, 10, 3] Média: 7.67\n",
      "Nome: Dra. Heloísa Pinto Notas: [8, 6, 5] Média: 6.33\n",
      "Nome: Dra. Laura Pereira Notas: [6, 5, 3] Média: 4.67\n",
      "Nome: Enzo Melo Notas: [10, 10, 6] Média: 8.67\n",
      "Nome: Gabriel Novaes Notas: [10, 10, 8] Média: 9.33\n",
      "Nome: Gabriel da Rosa Notas: [3, 3, 2] Média: 2.67\n",
      "Nome: Heitor Aragão Notas: [6, 6, 5] Média: 5.67\n",
      "Nome: Heitor Martins Notas: [10, 9, 6] Média: 8.33\n",
      "Nome: João Cardoso Notas: [10, 7, 5] Média: 7.33\n",
      "Nome: João Pedro Moura Notas: [5, 3, 3] Média: 3.67\n",
      "Nome: Leandro Rodrigues Notas: [7, 5, 4] Média: 5.33\n",
      "Nome: Letícia Jesus Notas: [6, 5, 5] Média: 5.33\n",
      "Nome: Luigi Pereira Notas: [9, 8, 8] Média: 8.33\n",
      "Nome: Maria Luiza Correia Notas: [7, 5, 5] Média: 5.67\n",
      "Nome: Maria Mendes Notas: [7, 3, 3] Média: 4.33\n",
      "Nome: Nicolas Campos Notas: [10, 8, 7] Média: 8.33\n",
      "Nome: Nina Viana Notas: [10, 9, 6] Média: 8.33\n",
      "Nome: Paulo da Rosa Notas: [5, 5, 5] Média: 5.0\n",
      "Nome: Pedro Castro Notas: [9, 8, 5] Média: 7.33\n",
      "Nome: Pedro Lucas Araújo Notas: [9, 7, 3] Média: 6.33\n",
      "Nome: Rodrigo Jesus Notas: [10, 8, 8] Média: 8.67\n",
      "Nome: Ryan Nascimento Notas: [9, 6, 4] Média: 6.33\n",
      "Nome: Sr. Luiz Otávio Cardoso Notas: [10, 10, 9] Média: 9.67\n",
      "Nome: Sra. Melissa da Cunha Notas: [10, 5, 3] Média: 6.0\n",
      "Nome: Srta. Carolina Almeida Notas: [10, 9, 2] Média: 7.0\n",
      "Nome: Thiago Silveira Notas: [7, 7, 4] Média: 6.0\n"
     ]
    }
   ],
   "source": [
    "texto = open('estudantes.csv', 'r')\n",
    "\n",
    "texto_lista = ((texto.read().split('\\n')))\n",
    "\n",
    "listas = list(sorted(map(lambda x: x.split(','), texto_lista)))\n",
    "# print(listas)\n",
    "\n",
    "nome = list(map(lambda x: x[0], listas))\n",
    "# print(nome)\n",
    "\n",
    "string_int = list(map(lambda x: list(map(int, x[1:])), listas))\n",
    "# print(string_int)\n",
    "\n",
    "ordenada = list(map(lambda x: (sorted(x, reverse=True)[:3]), string_int))\n",
    "# print(ordenada)\n",
    "\n",
    "from statistics import mean\n",
    "\n",
    "media = list(map(lambda x: float(round(mean(x), 2)), ordenada))\n",
    "# print(media)\n",
    "\n",
    "imprimir = list(map(lambda x: print(f'Nome: {x[0]} Notas: {x[1]} Média: {x[2]}'), zip(nome, ordenada, media)))\n",
    "\n"
   ]
  }
 ],
 "metadata": {
  "kernelspec": {
   "display_name": "compass_sprint4",
   "language": "python",
   "name": "python3"
  },
  "language_info": {
   "codemirror_mode": {
    "name": "ipython",
    "version": 3
   },
   "file_extension": ".py",
   "mimetype": "text/x-python",
   "name": "python",
   "nbconvert_exporter": "python",
   "pygments_lexer": "ipython3",
   "version": "3.10.10"
  },
  "orig_nbformat": 4
 },
 "nbformat": 4,
 "nbformat_minor": 2
}
