{
 "cells": [
  {
   "attachments": {},
   "cell_type": "markdown",
   "metadata": {},
   "source": [
    "# Lendo o arquivo"
   ]
  },
  {
   "cell_type": "code",
   "execution_count": null,
   "metadata": {},
   "outputs": [],
   "source": [
    "texto = open('number.txt', 'r')\n",
    "print(texto.read().split('\\n'))"
   ]
  },
  {
   "attachments": {},
   "cell_type": "markdown",
   "metadata": {},
   "source": [
    "# Código completo"
   ]
  },
  {
   "cell_type": "code",
   "execution_count": 3,
   "metadata": {},
   "outputs": [
    {
     "name": "stdout",
     "output_type": "stream",
     "text": [
      "[8000, 7998, 7996, 7994, 7994]\n",
      "39982\n"
     ]
    }
   ],
   "source": [
    "texto = open('number.txt', 'r')\n",
    "#  print(texto.read().split('\\n'))\n",
    "\n",
    "texto_lista = list(texto.read().split('\\n'))\n",
    "# print(texto_lista)\n",
    "\n",
    "lista_integer = list(map(int, texto_lista))\n",
    "\n",
    "lista_filtrada = list(filter(lambda num: num % 2 == 0, lista_integer))\n",
    "# print(lista_filtrada)\n",
    "\n",
    "lista_ordernada = sorted(lista_filtrada, reverse=True)\n",
    "print(lista_ordernada[:5]) #ordenada com 5 maiores valores decrescentes\n",
    "\n",
    "soma = sum(lista_ordernada[:5])\n",
    "print(soma)\n"
   ]
  },
  {
   "cell_type": "code",
   "execution_count": null,
   "metadata": {},
   "outputs": [],
   "source": []
  }
 ],
 "metadata": {
  "kernelspec": {
   "display_name": "Python 3",
   "language": "python",
   "name": "python3"
  },
  "language_info": {
   "codemirror_mode": {
    "name": "ipython",
    "version": 3
   },
   "file_extension": ".py",
   "mimetype": "text/x-python",
   "name": "python",
   "nbconvert_exporter": "python",
   "pygments_lexer": "ipython3",
   "version": "3.10.10"
  },
  "orig_nbformat": 4
 },
 "nbformat": 4,
 "nbformat_minor": 2
}
