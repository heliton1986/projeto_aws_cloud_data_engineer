{
 "cells": [
  {
   "cell_type": "code",
   "execution_count": 2,
   "metadata": {},
   "outputs": [
    {
     "name": "stdout",
     "output_type": "stream",
     "text": [
      "200\n"
     ]
    }
   ],
   "source": [
    "def calcula_saldo(lancamentos):\n",
    "\n",
    "    import functools\n",
    "    #cria uma função lambda que soma os créditos\n",
    "    soma_creditos = lambda x: x[0] if x[1] == 'C' else 0\n",
    "\n",
    "    #cria uma função lambda que subtrai os débitos\n",
    "    subtrai_debitos = lambda x: x[0] if x[1] == 'D' else 0\n",
    "\n",
    "    #aplica as funções lambdas na lista de lançamentos\n",
    "    creditos = list(map(soma_creditos, lancamentos))\n",
    "    debitos = list(map(subtrai_debitos, lancamentos))\n",
    "\n",
    "    #calcula o saldo final utilizando a função reduce\n",
    "    saldo_final = functools.reduce(lambda x, y: x+y, creditos) - functools.reduce(lambda x, y: x+y, debitos)\n",
    "\n",
    "    return saldo_final\n",
    "\n",
    "\n",
    "lancamentos = [\n",
    "(200,'D'),\n",
    "(300,'C'),\n",
    "(100,'C')\n",
    "]\n",
    "\n",
    "print(calcula_saldo(lancamentos)) "
   ]
  },
  {
   "cell_type": "code",
   "execution_count": null,
   "metadata": {},
   "outputs": [],
   "source": []
  }
 ],
 "metadata": {
  "kernelspec": {
   "display_name": "Python 3",
   "language": "python",
   "name": "python3"
  },
  "language_info": {
   "codemirror_mode": {
    "name": "ipython",
    "version": 3
   },
   "file_extension": ".py",
   "mimetype": "text/x-python",
   "name": "python",
   "nbconvert_exporter": "python",
   "pygments_lexer": "ipython3",
   "version": "3.10.10"
  },
  "orig_nbformat": 4
 },
 "nbformat": 4,
 "nbformat_minor": 2
}
