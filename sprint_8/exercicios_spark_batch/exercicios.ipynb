{
 "cells": [
  {
   "attachments": {},
   "cell_type": "markdown",
   "metadata": {},
   "source": [
    "### 1 - [Warm up]  Em Python, declare e inicialize uma lista contendo 250 inteiros obtidos de forma aleatória. Após, aplicar o método reverse sobre o conteúdo da lista e imprimir o resultado."
   ]
  },
  {
   "cell_type": "code",
   "execution_count": null,
   "metadata": {},
   "outputs": [],
   "source": [
    "import random\n",
    "random.randint(0,1000)\n",
    "\n",
    "lista_random = []\n",
    "\n",
    "for num in range(250):\n",
    "    lista_random.append(random.randint(0,1000))\n",
    "\n",
    "lista_random.reverse()\n",
    "print(lista_random)"
   ]
  },
  {
   "attachments": {},
   "cell_type": "markdown",
   "metadata": {},
   "source": [
    "### 2 - [Warm up] Em Python, declare e inicialize uma lista contendo o nome de 20 animais. Ordene-os em ordem crescente e itere sobre os itens, imprimindo um a um (você pode utilizar list comprehension aqui).  Na sequência, armazene o conteúdo da lista em um arquivo de texto, um item em cada linha, no formato CSV."
   ]
  },
  {
   "cell_type": "code",
   "execution_count": null,
   "metadata": {},
   "outputs": [],
   "source": [
    "lista_animais = ['Cachorro', 'Gato', 'Leão', 'Tigre', 'Elefante', 'Girafa', 'Zebra', 'Urso', 'Macaco', 'Cavalo', \\\n",
    "                 'Vaca', 'Porco', 'Ovelha', 'Coelho', 'Rato', 'Galinha', 'Pato', 'Peru', 'Pombo', 'Papagaio']\n",
    "\n",
    "\n",
    "lista_animais.sort()\n",
    "\n",
    "lista_animais_crescente = [animal for animal in lista_animais]\n",
    "lista_animais_crescente\n"
   ]
  },
  {
   "cell_type": "code",
   "execution_count": null,
   "metadata": {},
   "outputs": [],
   "source": [
    "import csv\n",
    "\n",
    "with open('lista_animais_crescente.csv', mode='w') as lista_crescente: # modo escrita\n",
    "    writer = csv.writer(lista_crescente) # Criar o arquivo CSV\n",
    "    for animal in lista_animais_crescente:\n",
    "        writer.writerow([animal])"
   ]
  },
  {
   "attachments": {},
   "cell_type": "markdown",
   "metadata": {},
   "source": [
    "### 3 - [Laboratório] Elaborar um código Python para gerar um dataset de nomes de pessoas. Siga os passos a seguir para realizar a atividade:"
   ]
  },
  {
   "attachments": {},
   "cell_type": "markdown",
   "metadata": {},
   "source": [
    "Passo 1:  Instalar biblioteca names para geração de nomes aleatórios. O comando de instalação é pip install names\n",
    "\n",
    "Passo 2 Importar as bibliotecas random, time, os e names em seu código\n",
    "\n",
    "Passo 3: Definir os parâmetros para geração do dataset, ou seja, a quantidades de nomes aleatórios e a quantidade de nomes que devem ser únicos.\n",
    "\n",
    "##### Define a semente de aleatoriedade\n",
    "\n",
    "random.seed(40)\n",
    "\n",
    "qtd_nomes_unicos = 3000\n",
    "\n",
    "qtd_nomes_aleatorios = 10000000\n",
    "\n",
    "Nota: Quando trabalhamos com números randômicos em computação, na realidade, estamos falando de valores pseudoaleatórios, uma vez que o computador não consegue gerar números verdadeiramente aleatórios. No caso do Python, a função random.seed inicializa o algoritmo responsável pela geração de valores randômicos. É um processo determinístico,  pois os valores gerados serão sempre os mesmos se utilizado a mesma configuração de inicialização. A este número inicial chamamos de semente de aleatoriedade.\n",
    "\n",
    "Passo 4: Gerar os nomes aleatórios.\n",
    "\n",
    "aux=[]\n",
    "\n",
    "for i in range(0, qtd_nomes_unicos):\n",
    "\n",
    "    aux.append(names.get_full_name())\n",
    "\n",
    "\n",
    "print(\"Gerando {} nomes aleatórios\".format(qtd_nomes_aleatorios))\n",
    "\n",
    "dados=[]\n",
    "\n",
    "\n",
    "for i in range(0,qtd_nomes_aleatorios):\n",
    "\n",
    "    dados.append(random.choice(aux))\n",
    "\n",
    "\n",
    "Passo 5: Gerar um arquivo de texto contendo todos os nomes, um a cada linha. O nome do arquivo deve ser nomes_aleatorios.txt\n",
    "\n",
    "Passo 6: Abrir o arquivo e verificar seu conteúdo (editor de texto)"
   ]
  },
  {
   "cell_type": "code",
   "execution_count": null,
   "metadata": {},
   "outputs": [],
   "source": [
    "# Passo 1:  Instalar biblioteca names para geração de nomes aleatórios. O comando de instalação é pip install names"
   ]
  },
  {
   "cell_type": "code",
   "execution_count": null,
   "metadata": {},
   "outputs": [],
   "source": [
    "# Passo 2 Importar as bibliotecas random, time, os e names em seu código\n",
    "import random, time, os, names"
   ]
  },
  {
   "cell_type": "code",
   "execution_count": null,
   "metadata": {},
   "outputs": [],
   "source": [
    "# Passo 3: Definir os parâmetros para geração do dataset, ou seja, a quantidades de nomes \n",
    "# aleatórios e a quantidade de nomes que devem ser únicos.\n",
    "\n",
    "# Define a semente de aleatoriedade\n",
    "\n",
    "random.seed(40)\n",
    "print(random.random())\n",
    "\n",
    "qtd_nomes_unicos = 3000\n",
    "\n",
    "qtd_nomes_aleatorios = 10000000\n",
    "\n",
    "# Nota: Quando trabalhamos com números randômicos em computação, na realidade, estamos falando \n",
    "# de valores pseudoaleatórios, uma vez que o computador não consegue gerar números verdadeiramente \n",
    "# aleatórios. No caso do Python, a função random.seed inicializa o algoritmo responsável pela geração \n",
    "# de valores randômicos. É um processo determinístico,  pois os valores gerados serão sempre os mesmos \n",
    "# se utilizado a mesma configuração de inicialização. A este número inicial chamamos de semente de aleatoriedade.\n"
   ]
  },
  {
   "cell_type": "code",
   "execution_count": null,
   "metadata": {},
   "outputs": [],
   "source": [
    "# Passo 4: Gerar os nomes aleatórios.\n",
    "\n",
    "aux=[]\n",
    "\n",
    "for i in range(0, qtd_nomes_unicos):\n",
    "\n",
    "    aux.append(names.get_full_name())\n",
    "\n",
    "\n",
    "print(\"Gerando {} nomes aleatórios\".format(qtd_nomes_aleatorios))\n",
    "\n",
    "dados=[]\n",
    "\n",
    "\n",
    "for i in range(0,qtd_nomes_aleatorios):\n",
    "\n",
    "    dados.append(random.choice(aux))"
   ]
  },
  {
   "cell_type": "code",
   "execution_count": null,
   "metadata": {},
   "outputs": [],
   "source": [
    "# Visualizando a contagem e os nomes únicos\n",
    "print(f'Quantidade de nomes únicos: {len(aux)}')\n",
    "aux"
   ]
  },
  {
   "cell_type": "code",
   "execution_count": null,
   "metadata": {},
   "outputs": [],
   "source": [
    "# Visualizando a contagem e os nomes aleatórios\n",
    "print(f'Quantidade de nomes aleatórios: {len(dados)}')\n",
    "dados"
   ]
  }
 ],
 "metadata": {
  "kernelspec": {
   "display_name": "base",
   "language": "python",
   "name": "python3"
  },
  "language_info": {
   "codemirror_mode": {
    "name": "ipython",
    "version": 3
   },
   "file_extension": ".py",
   "mimetype": "text/x-python",
   "name": "python",
   "nbconvert_exporter": "python",
   "pygments_lexer": "ipython3",
   "version": "3.10.10"
  },
  "orig_nbformat": 4
 },
 "nbformat": 4,
 "nbformat_minor": 2
}
