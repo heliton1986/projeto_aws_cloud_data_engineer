{
 "cells": [
  {
   "attachments": {},
   "cell_type": "markdown",
   "metadata": {},
   "source": [
    "### 1 - [Warm up]  Em Python, declare e inicialize uma lista contendo 250 inteiros obtidos de forma aleatória. Após, aplicar o método reverse sobre o conteúdo da lista e imprimir o resultado."
   ]
  },
  {
   "cell_type": "code",
   "execution_count": 17,
   "metadata": {},
   "outputs": [
    {
     "name": "stdout",
     "output_type": "stream",
     "text": [
      "[829, 56, 993, 789, 979, 45, 140, 332, 732, 588, 308, 905, 138, 722, 925, 626, 330, 509, 585, 834, 59, 268, 126, 925, 239, 70, 476, 709, 540, 451, 207, 266, 911, 530, 502, 777, 526, 783, 976, 636, 215, 549, 87, 623, 209, 238, 489, 856, 499, 421, 461, 517, 148, 919, 61, 472, 845, 340, 767, 499, 798, 602, 709, 414, 70, 398, 25, 935, 705, 152, 749, 612, 703, 781, 684, 364, 20, 618, 117, 612, 473, 937, 582, 5, 287, 312, 428, 724, 576, 282, 851, 523, 43, 798, 706, 668, 694, 916, 204, 863, 632, 376, 43, 106, 1000, 146, 660, 185, 963, 511, 773, 603, 520, 175, 769, 399, 799, 450, 330, 608, 368, 945, 41, 463, 939, 989, 674, 33, 285, 782, 600, 160, 151, 116, 853, 172, 627, 586, 648, 865, 367, 147, 132, 185, 931, 78, 427, 12, 590, 195, 311, 692, 796, 967, 868, 815, 349, 829, 687, 421, 611, 72, 427, 332, 111, 966, 770, 320, 616, 202, 321, 799, 501, 632, 552, 32, 149, 731, 885, 129, 48, 154, 852, 425, 122, 54, 790, 629, 601, 559, 943, 911, 210, 856, 38, 634, 715, 557, 370, 326, 884, 686, 169, 208, 921, 308, 832, 689, 385, 187, 618, 902, 850, 136, 923, 628, 718, 53, 146, 11, 167, 950, 631, 685, 807, 295, 783, 452, 900, 18, 665, 160, 46, 36, 148, 63, 775, 158, 57, 142, 313, 436, 550, 438, 470, 370, 605, 390, 670, 650]\n",
      "Quantidade de números impressos: 250\n"
     ]
    }
   ],
   "source": [
    "import random\n",
    "random.randint(0,1000)\n",
    "\n",
    "lista_random = []\n",
    "\n",
    "for num in range(250):\n",
    "    lista_random.append(random.randint(0,1000))\n",
    "\n",
    "lista_random.reverse()\n",
    "print(lista_random)\n",
    "print(f'Quantidade de números impressos: {len(lista_random)}')"
   ]
  },
  {
   "attachments": {},
   "cell_type": "markdown",
   "metadata": {},
   "source": [
    "### 2 - [Warm up] Em Python, declare e inicialize uma lista contendo o nome de 20 animais. Ordene-os em ordem crescente e itere sobre os itens, imprimindo um a um (você pode utilizar list comprehension aqui).  Na sequência, armazene o conteúdo da lista em um arquivo de texto, um item em cada linha, no formato CSV."
   ]
  },
  {
   "cell_type": "code",
   "execution_count": 18,
   "metadata": {},
   "outputs": [
    {
     "data": {
      "text/plain": [
       "['Cachorro',\n",
       " 'Cavalo',\n",
       " 'Coelho',\n",
       " 'Elefante',\n",
       " 'Galinha',\n",
       " 'Gato',\n",
       " 'Girafa',\n",
       " 'Leão',\n",
       " 'Macaco',\n",
       " 'Ovelha',\n",
       " 'Papagaio',\n",
       " 'Pato',\n",
       " 'Peru',\n",
       " 'Pombo',\n",
       " 'Porco',\n",
       " 'Rato',\n",
       " 'Tigre',\n",
       " 'Urso',\n",
       " 'Vaca',\n",
       " 'Zebra']"
      ]
     },
     "execution_count": 18,
     "metadata": {},
     "output_type": "execute_result"
    }
   ],
   "source": [
    "lista_animais = ['Cachorro', 'Gato', 'Leão', 'Tigre', 'Elefante', 'Girafa', 'Zebra', 'Urso', 'Macaco', 'Cavalo', \\\n",
    "                 'Vaca', 'Porco', 'Ovelha', 'Coelho', 'Rato', 'Galinha', 'Pato', 'Peru', 'Pombo', 'Papagaio']\n",
    "\n",
    "\n",
    "lista_animais.sort()\n",
    "\n",
    "lista_animais_crescente = [animal for animal in lista_animais]\n",
    "lista_animais_crescente\n"
   ]
  },
  {
   "cell_type": "code",
   "execution_count": 3,
   "metadata": {},
   "outputs": [],
   "source": [
    "import csv\n",
    "\n",
    "with open('lista_animais_crescente.csv', mode='w') as lista_crescente: # modo escrita\n",
    "    writer = csv.writer(lista_crescente) # Criar o arquivo CSV\n",
    "    for animal in lista_animais_crescente:\n",
    "        writer.writerow([animal])"
   ]
  },
  {
   "attachments": {},
   "cell_type": "markdown",
   "metadata": {},
   "source": [
    "### 3 - [Laboratório] Elaborar um código Python para gerar um dataset de nomes de pessoas. Siga os passos a seguir para realizar a atividade:"
   ]
  },
  {
   "attachments": {},
   "cell_type": "markdown",
   "metadata": {},
   "source": [
    "Passo 1:  Instalar biblioteca names para geração de nomes aleatórios. O comando de instalação é pip install names\n",
    "\n",
    "Passo 2 Importar as bibliotecas random, time, os e names em seu código\n",
    "\n",
    "Passo 3: Definir os parâmetros para geração do dataset, ou seja, a quantidades de nomes aleatórios e a quantidade de nomes que devem ser únicos.\n",
    "\n",
    "##### Define a semente de aleatoriedade\n",
    "\n",
    "random.seed(40)\n",
    "\n",
    "qtd_nomes_unicos = 3000\n",
    "\n",
    "qtd_nomes_aleatorios = 10000000\n",
    "\n",
    "Nota: Quando trabalhamos com números randômicos em computação, na realidade, estamos falando de valores pseudoaleatórios, uma vez que o computador não consegue gerar números verdadeiramente aleatórios. No caso do Python, a função random.seed inicializa o algoritmo responsável pela geração de valores randômicos. É um processo determinístico,  pois os valores gerados serão sempre os mesmos se utilizado a mesma configuração de inicialização. A este número inicial chamamos de semente de aleatoriedade.\n",
    "\n",
    "Passo 4: Gerar os nomes aleatórios.\n",
    "\n",
    "aux=[]\n",
    "\n",
    "for i in range(0, qtd_nomes_unicos):\n",
    "\n",
    "    aux.append(names.get_full_name())\n",
    "\n",
    "\n",
    "print(\"Gerando {} nomes aleatórios\".format(qtd_nomes_aleatorios))\n",
    "\n",
    "dados=[]\n",
    "\n",
    "\n",
    "for i in range(0,qtd_nomes_aleatorios):\n",
    "\n",
    "    dados.append(random.choice(aux))\n",
    "\n",
    "\n",
    "Passo 5: Gerar um arquivo de texto contendo todos os nomes, um a cada linha. O nome do arquivo deve ser nomes_aleatorios.txt\n",
    "\n",
    "Passo 6: Abrir o arquivo e verificar seu conteúdo (editor de texto)"
   ]
  },
  {
   "attachments": {},
   "cell_type": "markdown",
   "metadata": {},
   "source": [
    "### Passo 1:  Instalar biblioteca names para geração de nomes aleatórios. O comando de instalação é pip install names"
   ]
  },
  {
   "cell_type": "code",
   "execution_count": 7,
   "metadata": {},
   "outputs": [
    {
     "name": "stdout",
     "output_type": "stream",
     "text": [
      "Requirement already satisfied: names in /home/heliton/miniconda3/lib/python3.10/site-packages (0.3.0)\n"
     ]
    }
   ],
   "source": [
    "!pip install names"
   ]
  },
  {
   "attachments": {},
   "cell_type": "markdown",
   "metadata": {},
   "source": [
    "### Passo 2 Importar as bibliotecas random, time, os e names em seu código"
   ]
  },
  {
   "cell_type": "code",
   "execution_count": 8,
   "metadata": {},
   "outputs": [],
   "source": [
    "import random, time, os, names"
   ]
  },
  {
   "attachments": {},
   "cell_type": "markdown",
   "metadata": {},
   "source": [
    "### Passo 3: Definir os parâmetros para geração do dataset, ou seja, a quantidades de nomes aleatórios e a quantidade de nomes que devem ser únicos.\n"
   ]
  },
  {
   "cell_type": "code",
   "execution_count": 9,
   "metadata": {},
   "outputs": [
    {
     "name": "stdout",
     "output_type": "stream",
     "text": [
      "0.4586067093870614\n"
     ]
    }
   ],
   "source": [
    "# Define a semente de aleatoriedade\n",
    "\n",
    "random.seed(40)\n",
    "print(random.random())\n",
    "\n",
    "qtd_nomes_unicos = 3000\n",
    "\n",
    "qtd_nomes_aleatorios = 10000000\n",
    "\n",
    "# Nota: Quando trabalhamos com números randômicos em computação, na realidade, estamos falando \n",
    "# de valores pseudoaleatórios, uma vez que o computador não consegue gerar números verdadeiramente \n",
    "# aleatórios. No caso do Python, a função random.seed inicializa o algoritmo responsável pela geração \n",
    "# de valores randômicos. É um processo determinístico,  pois os valores gerados serão sempre os mesmos \n",
    "# se utilizado a mesma configuração de inicialização. A este número inicial chamamos de semente de aleatoriedade.\n"
   ]
  },
  {
   "attachments": {},
   "cell_type": "markdown",
   "metadata": {},
   "source": [
    "### Passo 4: Gerar os nomes aleatórios."
   ]
  },
  {
   "cell_type": "code",
   "execution_count": 10,
   "metadata": {},
   "outputs": [
    {
     "name": "stdout",
     "output_type": "stream",
     "text": [
      "Gerando 10000000 nomes aleatórios\n"
     ]
    }
   ],
   "source": [
    "aux=[]\n",
    "\n",
    "for i in range(0, qtd_nomes_unicos):\n",
    "\n",
    "    aux.append(names.get_full_name())\n",
    "\n",
    "\n",
    "print(\"Gerando {} nomes aleatórios\".format(qtd_nomes_aleatorios))\n",
    "\n",
    "dados=[]\n",
    "\n",
    "\n",
    "for i in range(0,qtd_nomes_aleatorios):\n",
    "\n",
    "    dados.append(random.choice(aux))"
   ]
  },
  {
   "cell_type": "code",
   "execution_count": null,
   "metadata": {},
   "outputs": [],
   "source": [
    "# Visualizando a contagem e os nomes únicos\n",
    "print(f'Quantidade de nomes únicos: {len(aux)}')\n",
    "aux"
   ]
  },
  {
   "cell_type": "code",
   "execution_count": null,
   "metadata": {},
   "outputs": [],
   "source": [
    "# Visualizando a contagem e os nomes aleatórios\n",
    "print(f'Quantidade de nomes aleatórios: {len(dados)}')\n",
    "dados"
   ]
  },
  {
   "attachments": {},
   "cell_type": "markdown",
   "metadata": {},
   "source": [
    "###  Passo 5: Gerar um arquivo de texto contendo todos os nomes, um a cada linha. O nome do arquivo deve ser nomes_aleatorios.txt"
   ]
  },
  {
   "cell_type": "code",
   "execution_count": 11,
   "metadata": {},
   "outputs": [],
   "source": [
    "with open('nomes_aleatorios1.txt', 'w') as arquivo: # Criando arquivo txt em modo escrita\n",
    "    for nome in dados:\n",
    "        arquivo.write(f'{str(nome)}\\n') # Escrever cada nome e pular linha"
   ]
  }
 ],
 "metadata": {
  "kernelspec": {
   "display_name": "base",
   "language": "python",
   "name": "python3"
  },
  "language_info": {
   "codemirror_mode": {
    "name": "ipython",
    "version": 3
   },
   "file_extension": ".py",
   "mimetype": "text/x-python",
   "name": "python",
   "nbconvert_exporter": "python",
   "pygments_lexer": "ipython3",
   "version": "3.10.11"
  },
  "orig_nbformat": 4
 },
 "nbformat": 4,
 "nbformat_minor": 2
}
