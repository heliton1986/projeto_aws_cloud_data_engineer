{
 "cells": [
  {
   "cell_type": "code",
   "execution_count": null,
   "metadata": {},
   "outputs": [],
   "source": [
    "!pip install tmdbv3api"
   ]
  },
  {
   "attachments": {},
   "cell_type": "markdown",
   "metadata": {},
   "source": [
    "# Com todas colunas do Top Rated de Movies apenas por Terror"
   ]
  },
  {
   "cell_type": "code",
   "execution_count": null,
   "metadata": {},
   "outputs": [],
   "source": [
    "from tmdbv3api import TMDb, Discover, Genre\n",
    "from datetime import datetime, timedelta\n",
    "import boto3\n",
    "import json\n",
    "from botocore.exceptions import ClientError\n",
    "import logging\n",
    "import os\n",
    "\n",
    "session = boto3.Session(aws_access_key_id='xxxxxx',\n",
    "                        aws_secret_access_key='xxxxxxx',\n",
    "                        aws_session_token='xxxxxxxxxx'\n",
    "                       )               \n",
    "\n",
    "with open('api_key_tmbd.txt') as arquivo:\n",
    "    api_key = arquivo.read()\n",
    "\n",
    "tmdb = TMDb()\n",
    "tmdb.api_key = api_key\n",
    "tmdb.language = 'pt-BR'\n",
    "\n",
    "# metodos TMDB para achar os filmes\n",
    "discover = Discover()\n",
    "genre = Genre()\n",
    "\n",
    "# Obtenha a lista de gêneros de filmes\n",
    "genres = genre.movie_list()\n",
    "\n",
    "# Crie um dicionário para mapear IDs de gênero para nomes de gênero\n",
    "genre_dict = {g['id']: g['name'] for g in genres}\n",
    "\n",
    "# Parametros para pegar as datas do intervalo\n",
    "params = {\n",
    "    'with_genres': 27 # ID do gênero de terror\n",
    "}\n",
    "\n",
    "# count contar a quantidade de filmes achados\n",
    "# escolher a quantidade de paginas da API\n",
    "count = 0\n",
    "movies_data = []\n",
    "\n",
    "for page in range(1, 101):\n",
    "    params['page'] = page\n",
    "    movies = discover.discover_movies(params)\n",
    "    count += len(movies)\n",
    "\n",
    "\n",
    "    for movie in movies:\n",
    "        print(movie)\n",
    "        movie_data = movie.__dict__.copy()\n",
    "        movie_data['genres'] = [genre_dict[g] for g in movie['genre_ids']]\n",
    "        movies_data.append(movie_data)\n",
    "\n",
    "print(f'Número de filmes: {count}')\n",
    "\n",
    "# Converta a lista de dados dos filmes em formato JSON\n",
    "# movies_json = json.dumps(movies_data)\n",
    "movies_json = json.dumps(movies_data, ensure_ascii=False)\n",
    "\n",
    "# Crie uma conexão com o S3\n",
    "s3 = session.client('s3')\n",
    "\n",
    "# Especifique o caminho completo no bucket S3\n",
    "bucket_name = 'data-lake-heliton'  # Substitua pelo nome do seu bucket no S3\n",
    "current_date = datetime.now()\n",
    "year = current_date.strftime('%Y')\n",
    "month = current_date.strftime('%m')\n",
    "day = current_date.strftime('%d')\n",
    "object_key = f'RAW/TMDB/JSON/{year}/{month}/{day}/filmes_popular.json'\n",
    "\n",
    "# Envie o JSON para o bucket no S3\n",
    "s3.put_object(\n",
    "    Body=movies_json,\n",
    "    Bucket=bucket_name,\n",
    "    Key=object_key\n",
    ")"
   ]
  }
 ],
 "metadata": {
  "kernelspec": {
   "display_name": "base",
   "language": "python",
   "name": "python3"
  },
  "language_info": {
   "codemirror_mode": {
    "name": "ipython",
    "version": 3
   },
   "file_extension": ".py",
   "mimetype": "text/x-python",
   "name": "python",
   "nbconvert_exporter": "python",
   "pygments_lexer": "ipython3",
   "version": "3.10.11"
  },
  "orig_nbformat": 4
 },
 "nbformat": 4,
 "nbformat_minor": 2
}
