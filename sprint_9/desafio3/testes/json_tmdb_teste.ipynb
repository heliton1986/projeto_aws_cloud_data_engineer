{
  "nbformat": 4,
  "nbformat_minor": 0,
  "metadata": {
    "colab": {
      "provenance": []
    },
    "kernelspec": {
      "name": "python3",
      "display_name": "Python 3"
    },
    "language_info": {
      "name": "python"
    }
  },
  "cells": [
    {
      "cell_type": "code",
      "execution_count": null,
      "metadata": {
        "colab": {
          "base_uri": "https://localhost:8080/"
        },
        "id": "ziv0ltMgqnpM",
        "outputId": "37b08390-21d7-432d-9ac6-a436901373b0"
      },
      "outputs": [
        {
          "output_type": "stream",
          "name": "stdout",
          "text": [
            "Collecting pyspark\n",
            "  Downloading pyspark-3.4.1.tar.gz (310.8 MB)\n",
            "\u001b[2K     \u001b[90m━━━━━━━━━━━━━━━━━━━━━━━━━━━━━━━━━━━━━━━\u001b[0m \u001b[32m310.8/310.8 MB\u001b[0m \u001b[31m2.0 MB/s\u001b[0m eta \u001b[36m0:00:00\u001b[0m\n",
            "\u001b[?25h  Preparing metadata (setup.py) ... \u001b[?25l\u001b[?25hdone\n",
            "Requirement already satisfied: py4j==0.10.9.7 in /usr/local/lib/python3.10/dist-packages (from pyspark) (0.10.9.7)\n",
            "Building wheels for collected packages: pyspark\n",
            "  Building wheel for pyspark (setup.py) ... \u001b[?25l\u001b[?25hdone\n",
            "  Created wheel for pyspark: filename=pyspark-3.4.1-py2.py3-none-any.whl size=311285398 sha256=bd42819e4f06a8b7e191eb6e1250e6e11707bc720af0df74de0483085c6d4afe\n",
            "  Stored in directory: /root/.cache/pip/wheels/0d/77/a3/ff2f74cc9ab41f8f594dabf0579c2a7c6de920d584206e0834\n",
            "Successfully built pyspark\n",
            "Installing collected packages: pyspark\n",
            "Successfully installed pyspark-3.4.1\n"
          ]
        }
      ],
      "source": [
        "!pip install pyspark"
      ]
    },
    {
      "cell_type": "markdown",
      "source": [
        "## Lendo json com colunas selecionadas e convertendo coluna genres de array para string"
      ],
      "metadata": {
        "id": "1xNGcrk-3r8W"
      }
    },
    {
      "cell_type": "code",
      "source": [
        "from pyspark import SparkContext, SparkConf\n",
        "from pyspark.sql import SparkSession\n",
        "from pyspark.sql.functions import from_json, col, explode, array_contains, concat_ws, to_date\n",
        "from pyspark.sql.types import StructType, StructField, StringType, IntegerType, ArrayType\n",
        "from datetime import datetime\n",
        "\n",
        "# Configuração do Spark\n",
        "conf = SparkConf().setAppName(\"TMDB\").setMaster(\"local\")\n",
        "sc = SparkContext.getOrCreate(conf)\n",
        "spark = SparkSession(sc)\n",
        "\n",
        "# Lê os dados JSON do bucket S3\n",
        "df = spark.read.json('/content/drive/MyDrive/Colab Notebooks/desafio_parte3/filmes_popular.json',multiLine=True)\n",
        "\n",
        "\n",
        "# Define o esquema dos dados\n",
        "schema = StructType([\n",
        "    StructField('title', StringType(), True),\n",
        "    StructField('id', IntegerType(), True),\n",
        "    StructField('popularity', StringType(), True),\n",
        "    StructField('overview', StringType(), True),\n",
        "    StructField('genres', ArrayType(StringType()), True),\n",
        "    StructField('release_date', StringType(), True)\n",
        "])\n",
        "\n",
        "# Converte a coluna genres de array para string\n",
        "df = df.withColumn(\"genres\", concat_ws(\", \", col(\"genres\")))\n",
        "\n",
        "# Converte a coluna release_date de string para data\n",
        "df = df.withColumn(\"release_date\", to_date(col(\"release_date\"), \"yyyy-MM-dd\"))\n",
        "\n",
        "# Filtra os filmes do gênero de terror\n",
        "# df_horror = df.where(array_contains(col(\"genres\"), 27)).select(\"id\", \"title\", \"overview\", \"genres\", \"popularity\", \"release_date\")\n",
        "df_horror = df.where(col(\"genres\").contains(\"Terror\")).select(\"id\", \"title\", \"overview\", \"genres\", \"popularity\", \"release_date\")\n",
        "\n",
        "# df.show()\n",
        "df_horror.printSchema()\n",
        "df_horror.orderBy(\"id\").show(20)\n"
      ],
      "metadata": {
        "id": "ZpmzavbOqoXe",
        "colab": {
          "base_uri": "https://localhost:8080/"
        },
        "outputId": "56b2a050-1628-4ce3-a6ae-400b5aa187e9"
      },
      "execution_count": 9,
      "outputs": [
        {
          "output_type": "stream",
          "name": "stdout",
          "text": [
            "root\n",
            " |-- id: long (nullable = true)\n",
            " |-- title: string (nullable = true)\n",
            " |-- overview: string (nullable = true)\n",
            " |-- genres: string (nullable = false)\n",
            " |-- popularity: double (nullable = true)\n",
            " |-- release_date: date (nullable = true)\n",
            "\n",
            "+-----+--------------------+--------------------+--------------------+----------+------------+\n",
            "|   id|               title|            overview|              genres|popularity|release_date|\n",
            "+-----+--------------------+--------------------+--------------------+----------+------------+\n",
            "| 1450|Caçadores de Vamp...|No filme, Saya, é...|Ação, Aventura, T...|      8.81|  2009-04-02|\n",
            "| 1977|           O Grito 3|Jake (Matthew Kni...|Mistério, Terror,...|    15.043|  2009-05-12|\n",
            "| 3511|            Reflexos|Gina McVey, como ...|Thriller, Drama, ...|     8.136|  2008-11-15|\n",
            "| 4627|Prisioneiros da M...|Um órfão de 14 an...|Ação, Fantasia, T...|     7.566|  2008-09-07|\n",
            "| 5489|             Neowolf|                    |    Terror, Thriller|     1.865|  2010-04-19|\n",
            "| 7180|               Risen|                    |Terror, Ação, Mis...|      0.84|  2008-11-21|\n",
            "| 7978|         O Lobisomem|O ator Lawrence T...|Terror, História,...|    24.209|  2010-02-10|\n",
            "| 9539|            Mártires|Lucie (Mylène Jam...|Terror, Drama, Th...|    32.413|  2008-09-03|\n",
            "| 9935|       Hallettsville|                    |    Terror, Thriller|     1.089|  2009-03-05|\n",
            "|10185|O Comboio Dos Mortos|Adaptado de um co...|Terror, Mistério,...|     21.71|  2008-08-07|\n",
            "|10664|  [REC] 2: Possuídos|Há 15 minutos a p...|    Thriller, Terror|    13.045|  2009-09-15|\n",
            "|11253|Hellboy II: O Exé...|Hellboy, sua namo...|Fantasia, Terror,...|    18.382|  2008-07-11|\n",
            "|11917|     Jogos Mortais V|Mark Hoffman é, a...|Terror, Thriller,...|    27.969|  2008-10-23|\n",
            "|12216|          The Portal|Investigadores qu...|              Terror|     1.397|  2010-01-01|\n",
            "|12683|Alone in the Dark...|Baseado em uma da...|Ação, Fantasia, T...|     7.564|  2008-09-01|\n",
            "|12685|Bloodrayne 3: O T...|Em 1943 a Europa,...|Ação, Aventura, F...|     8.336|  2010-11-05|\n",
            "|13094| Dança com os Mortos|Na noite de forma...|     Comédia, Terror|     5.523|  2008-10-14|\n",
            "|13190| Dead Space: A Queda|A equipe de uma n...|Animação, Terror,...|    13.124|  2008-10-27|\n",
            "|13207|      Sexta-Feira 13|Em Crystal Lake, ...|              Terror|    27.765|  2009-02-11|\n",
            "|13220|            Espinhos|Um jovem casal de...|    Terror, Thriller|    10.443|  2008-10-31|\n",
            "+-----+--------------------+--------------------+--------------------+----------+------------+\n",
            "only showing top 20 rows\n",
            "\n"
          ]
        }
      ]
    },
    {
      "cell_type": "code",
      "source": [
        "df_horror.count()"
      ],
      "metadata": {
        "colab": {
          "base_uri": "https://localhost:8080/"
        },
        "id": "gluYAd1i1wuN",
        "outputId": "b455db18-cddd-41c2-dbf8-663375b16e6c"
      },
      "execution_count": 10,
      "outputs": [
        {
          "output_type": "execute_result",
          "data": {
            "text/plain": [
              "10000"
            ]
          },
          "metadata": {},
          "execution_count": 10
        }
      ]
    },
    {
      "cell_type": "markdown",
      "source": [
        "## Montando glue para json"
      ],
      "metadata": {
        "id": "ms-WSuj7r899"
      }
    },
    {
      "cell_type": "code",
      "source": [
        "import sys\n",
        "from awsglue.transforms import *\n",
        "from awsglue.utils import getResolvedOptions\n",
        "from pyspark.context import SparkContext, SparkConf\n",
        "from awsglue.context import GlueContext\n",
        "from awsglue.job import Job\n",
        "from pyspark.sql.functions import from_json, col, explode, array_contains, concat_ws, to_date\n",
        "from datetime import datetime\n",
        "\n",
        "## @params: [JOB_NAME]\n",
        "args = getResolvedOptions(sys.argv, ['JOB_NAME', 'S3_RAW_PATH', 'S3_TRUSTED_PATH'])\n",
        "\n",
        "conf = SparkConf().setAppName(\"TMDB\").setMaster(\"local\")\n",
        "sc = SparkContext()\n",
        "glueContext = GlueContext(sc)\n",
        "spark = glueContext.spark_session\n",
        "job = Job(glueContext)\n",
        "job.init(args['JOB_NAME'], args)\n",
        "\n",
        "df_dynamic = glueContext.create_dynamic_frame.from_options(\n",
        "    \"s3\",\n",
        "    {\n",
        "        \"paths\": [\n",
        "            args['S3_RAW_PATH']\n",
        "        ]\n",
        "    },\n",
        "    \"csv\",\n",
        "    {\"withHeader\": True, \"separator\": \"|\"},\n",
        ")\n",
        "\n",
        "data_frame = df_dynamic.toDF()\n",
        "\n",
        "# Lê os dados JSON do bucket S3\n",
        "df = spark.read.json('/content/drive/MyDrive/Colab Notebooks/desafio_parte3/filmes_popular.json',multiLine=True)\n",
        "\n",
        "# Define o esquema dos dados\n",
        "schema = StructType([\n",
        "    StructField('title', StringType(), True),\n",
        "    StructField('id', IntegerType(), True),\n",
        "    StructField('popularity', StringType(), True),\n",
        "    StructField('overview', StringType(), True),\n",
        "    StructField('genres', ArrayType(StringType()), True),\n",
        "    StructField('release_date', StringType(), True)\n",
        "])\n",
        "\n",
        "# Converte a coluna genres de array para string\n",
        "df = df.withColumn(\"genres\", concat_ws(\", \", col(\"genres\")))\n",
        "\n",
        "# Converte a coluna release_date de string para data\n",
        "df = df.withColumn(\"release_date\", to_date(col(\"release_date\"), \"yyyy-MM-dd\"))\n",
        "\n",
        "# Filtra os filmes do gênero de terror\n",
        "df_horror = df.where(array_contains(col(\"genre_ids\"), 27)).select(\"id\", \"title\", \"overview\", \"genres\", \"popularity\", \"release_date\")\n",
        "\n",
        "# # Salva o resultado em formato Parquet no caminho especificado\n",
        "df_horror.write.mode(\"overwrite\").parquet(args['S3_TRUSTED_PATH'])\n",
        "\n",
        "job.commit()"
      ],
      "metadata": {
        "id": "9MAAGEfu4GaJ"
      },
      "execution_count": null,
      "outputs": []
    },
    {
      "cell_type": "code",
      "source": [
        "!pip install tmdbv3api"
      ],
      "metadata": {
        "colab": {
          "base_uri": "https://localhost:8080/"
        },
        "id": "BzTSmzxkwk37",
        "outputId": "86e3607a-6de9-48e6-96e2-192facaab956"
      },
      "execution_count": null,
      "outputs": [
        {
          "output_type": "stream",
          "name": "stdout",
          "text": [
            "Collecting tmdbv3api\n",
            "  Downloading tmdbv3api-1.7.7-py2.py3-none-any.whl (18 kB)\n",
            "Requirement already satisfied: requests in /usr/local/lib/python3.10/dist-packages (from tmdbv3api) (2.27.1)\n",
            "Requirement already satisfied: urllib3<1.27,>=1.21.1 in /usr/local/lib/python3.10/dist-packages (from requests->tmdbv3api) (1.26.16)\n",
            "Requirement already satisfied: certifi>=2017.4.17 in /usr/local/lib/python3.10/dist-packages (from requests->tmdbv3api) (2023.5.7)\n",
            "Requirement already satisfied: charset-normalizer~=2.0.0 in /usr/local/lib/python3.10/dist-packages (from requests->tmdbv3api) (2.0.12)\n",
            "Requirement already satisfied: idna<4,>=2.5 in /usr/local/lib/python3.10/dist-packages (from requests->tmdbv3api) (3.4)\n",
            "Installing collected packages: tmdbv3api\n",
            "Successfully installed tmdbv3api-1.7.7\n"
          ]
        }
      ]
    },
    {
      "cell_type": "code",
      "source": [
        "from tmdbv3api import TMDb, Discover, Genre\n",
        "from datetime import datetime, timedelta\n",
        "import json\n",
        "import logging\n",
        "import os\n",
        "\n",
        "\n",
        "# Defina o intervalo de datas para os últimos 15 anos\n",
        "end_date = datetime.now()\n",
        "start_date = end_date - timedelta(days=15*365)\n",
        "\n",
        "with open('/content/drive/MyDrive/Colab Notebooks/desafio_parte3/api_key_tmbd.txt') as arquivo:\n",
        "    api_key = arquivo.read()\n",
        "\n",
        "tmdb = TMDb()\n",
        "tmdb.api_key = api_key\n",
        "tmdb.language = 'pt-BR'\n",
        "\n",
        "# metodos TMDB para achar os filmes\n",
        "discover = Discover()\n",
        "genre = Genre()\n",
        "\n",
        "# Obtenha a lista de gêneros de filmes\n",
        "genres = genre.movie_list()\n",
        "\n",
        "# Crie um dicionário para mapear IDs de gênero para nomes de gênero\n",
        "genre_dict = {g['id']: g['name'] for g in genres}\n",
        "\n",
        "# Parametros para pegar as datas do intervalo\n",
        "params = {\n",
        "    'primary_release_date.gte': start_date.strftime('%Y-%m-%d'),\n",
        "    'primary_release_date.lte': end_date.strftime('%Y-%m-%d'),\n",
        "    'with_genres': 27 # ID do gênero de terror\n",
        "}\n",
        "\n",
        "# count contar a quantidade de filmes achados\n",
        "# escolher a quantidade de paginas da API\n",
        "count = 0\n",
        "movies_data = []\n",
        "\n",
        "for page in range(1, 501):\n",
        "    params['page'] = page\n",
        "    movies = discover.discover_movies(params)\n",
        "    count += len(movies)\n",
        "\n",
        "    for movie in movies:\n",
        "        print(movie)\n",
        "        movie_data = movie.__dict__.copy()\n",
        "        movie_data['genres'] = [genre_dict[g] for g in movie['genre_ids']]\n",
        "        movies_data.append(movie_data)\n",
        "\n",
        "# Convertendo a lista de dados dos filmes em formato JSON\n",
        "movies_json = json.dumps(movies_data, ensure_ascii=False)\n",
        "\n",
        "with open('movies500.json', 'w', encoding='utf-8') as f:\n",
        "    json.dump(movies_data, f, ensure_ascii=False, indent=4)\n",
        "\n"
      ],
      "metadata": {
        "id": "Dyd4dS1ovqER"
      },
      "execution_count": null,
      "outputs": []
    },
    {
      "cell_type": "code",
      "source": [
        "count"
      ],
      "metadata": {
        "colab": {
          "base_uri": "https://localhost:8080/"
        },
        "id": "OQspwOcaw1kM",
        "outputId": "4410f0e2-3d32-4645-ce97-b83a5c9e3fba"
      },
      "execution_count": null,
      "outputs": [
        {
          "output_type": "execute_result",
          "data": {
            "text/plain": [
              "10000"
            ]
          },
          "metadata": {},
          "execution_count": 37
        }
      ]
    }
  ]
}